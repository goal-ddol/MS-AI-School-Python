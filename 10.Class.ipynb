{
 "cells": [
  {
   "cell_type": "code",
   "execution_count": 1,
   "id": "943d2a72",
   "metadata": {},
   "outputs": [],
   "source": [
    "class MyClass:\n",
    "    pass"
   ]
  },
  {
   "cell_type": "code",
   "execution_count": 2,
   "id": "4acad280",
   "metadata": {},
   "outputs": [
    {
     "data": {
      "text/plain": [
       "__main__.MyClass"
      ]
     },
     "execution_count": 2,
     "metadata": {},
     "output_type": "execute_result"
    }
   ],
   "source": [
    "MyClass"
   ]
  },
  {
   "cell_type": "code",
   "execution_count": 3,
   "id": "bce938ef",
   "metadata": {},
   "outputs": [
    {
     "data": {
      "text/plain": [
       "type"
      ]
     },
     "execution_count": 3,
     "metadata": {},
     "output_type": "execute_result"
    }
   ],
   "source": [
    "type(MyClass)"
   ]
  },
  {
   "cell_type": "code",
   "execution_count": 4,
   "id": "1c27213b",
   "metadata": {},
   "outputs": [],
   "source": [
    "class Person:\n",
    "    Name = 'Default Name' # Property\n",
    "    \n",
    "    def Print(self):\n",
    "        print('My name is {0}'.format(self.Name))"
   ]
  },
  {
   "cell_type": "code",
   "execution_count": 5,
   "id": "65a1f375",
   "metadata": {},
   "outputs": [],
   "source": [
    "son = Person()"
   ]
  },
  {
   "cell_type": "code",
   "execution_count": 7,
   "id": "cf7eb8ac",
   "metadata": {},
   "outputs": [
    {
     "name": "stdout",
     "output_type": "stream",
     "text": [
      "My name is 손흥민\n"
     ]
    }
   ],
   "source": [
    "son.Name = '손흥민'\n",
    "son.Print()"
   ]
  },
  {
   "cell_type": "code",
   "execution_count": 8,
   "id": "5afd5d8e",
   "metadata": {},
   "outputs": [],
   "source": [
    "p1 = Person()\n",
    "p2 = Person()"
   ]
  },
  {
   "cell_type": "code",
   "execution_count": 9,
   "id": "2dc9096b",
   "metadata": {},
   "outputs": [],
   "source": [
    "p1.Name = '박보검'\n",
    "p2.Name = '민아'"
   ]
  },
  {
   "cell_type": "code",
   "execution_count": 11,
   "id": "18f6e356",
   "metadata": {},
   "outputs": [
    {
     "name": "stdout",
     "output_type": "stream",
     "text": [
      "My name is 박보검\n",
      "My name is 민아\n"
     ]
    }
   ],
   "source": [
    "p1.Print()\n",
    "p2.Print()"
   ]
  },
  {
   "cell_type": "code",
   "execution_count": 12,
   "id": "b23ee12b",
   "metadata": {},
   "outputs": [],
   "source": [
    "# instance\n",
    "\n",
    "Person.title = 'New title'"
   ]
  },
  {
   "cell_type": "code",
   "execution_count": 13,
   "id": "918e7238",
   "metadata": {},
   "outputs": [
    {
     "data": {
      "text/plain": [
       "'New title'"
      ]
     },
     "execution_count": 13,
     "metadata": {},
     "output_type": "execute_result"
    }
   ],
   "source": [
    "p1.title"
   ]
  },
  {
   "cell_type": "code",
   "execution_count": 14,
   "id": "3d378c67",
   "metadata": {},
   "outputs": [],
   "source": [
    "p1.age = 20"
   ]
  },
  {
   "cell_type": "code",
   "execution_count": 15,
   "id": "79240db1",
   "metadata": {},
   "outputs": [
    {
     "data": {
      "text/plain": [
       "20"
      ]
     },
     "execution_count": 15,
     "metadata": {},
     "output_type": "execute_result"
    }
   ],
   "source": [
    "p1.age"
   ]
  },
  {
   "cell_type": "code",
   "execution_count": 16,
   "id": "b03628aa",
   "metadata": {},
   "outputs": [
    {
     "ename": "AttributeError",
     "evalue": "type object 'Person' has no attribute 'age'",
     "output_type": "error",
     "traceback": [
      "\u001b[1;31m---------------------------------------------------------------------------\u001b[0m",
      "\u001b[1;31mAttributeError\u001b[0m                            Traceback (most recent call last)",
      "Input \u001b[1;32mIn [16]\u001b[0m, in \u001b[0;36m<cell line: 1>\u001b[1;34m()\u001b[0m\n\u001b[1;32m----> 1\u001b[0m \u001b[43mPerson\u001b[49m\u001b[38;5;241;43m.\u001b[39;49m\u001b[43mage\u001b[49m\n",
      "\u001b[1;31mAttributeError\u001b[0m: type object 'Person' has no attribute 'age'"
     ]
    }
   ],
   "source": [
    "Person.age"
   ]
  },
  {
   "cell_type": "code",
   "execution_count": 17,
   "id": "94e39d41",
   "metadata": {},
   "outputs": [
    {
     "ename": "AttributeError",
     "evalue": "'Person' object has no attribute 'age'",
     "output_type": "error",
     "traceback": [
      "\u001b[1;31m---------------------------------------------------------------------------\u001b[0m",
      "\u001b[1;31mAttributeError\u001b[0m                            Traceback (most recent call last)",
      "Input \u001b[1;32mIn [17]\u001b[0m, in \u001b[0;36m<cell line: 1>\u001b[1;34m()\u001b[0m\n\u001b[1;32m----> 1\u001b[0m \u001b[43mp2\u001b[49m\u001b[38;5;241;43m.\u001b[39;49m\u001b[43mage\u001b[49m\n",
      "\u001b[1;31mAttributeError\u001b[0m: 'Person' object has no attribute 'age'"
     ]
    }
   ],
   "source": [
    "p2.age"
   ]
  },
  {
   "cell_type": "code",
   "execution_count": 18,
   "id": "57547840",
   "metadata": {},
   "outputs": [],
   "source": [
    "# 클래스의 상속\n",
    "\n",
    "class Person:\n",
    "    pass"
   ]
  },
  {
   "cell_type": "code",
   "execution_count": 19,
   "id": "859d8ea2",
   "metadata": {},
   "outputs": [],
   "source": [
    "class Bird:\n",
    "    pass"
   ]
  },
  {
   "cell_type": "code",
   "execution_count": 20,
   "id": "c9e80959",
   "metadata": {},
   "outputs": [],
   "source": [
    "class Student(Person):\n",
    "    pass"
   ]
  },
  {
   "cell_type": "code",
   "execution_count": 21,
   "id": "b12e835d",
   "metadata": {},
   "outputs": [],
   "source": [
    "p = Person()\n",
    "s = Student()"
   ]
  },
  {
   "cell_type": "code",
   "execution_count": 23,
   "id": "61f20b05",
   "metadata": {},
   "outputs": [
    {
     "data": {
      "text/plain": [
       "True"
      ]
     },
     "execution_count": 23,
     "metadata": {},
     "output_type": "execute_result"
    }
   ],
   "source": [
    "isinstance(p, Person)"
   ]
  },
  {
   "cell_type": "code",
   "execution_count": 24,
   "id": "cf816f1f",
   "metadata": {},
   "outputs": [
    {
     "data": {
      "text/plain": [
       "True"
      ]
     },
     "execution_count": 24,
     "metadata": {},
     "output_type": "execute_result"
    }
   ],
   "source": [
    "isinstance(s, Person)"
   ]
  },
  {
   "cell_type": "code",
   "execution_count": 25,
   "id": "0ac65eaf",
   "metadata": {},
   "outputs": [
    {
     "data": {
      "text/plain": [
       "True"
      ]
     },
     "execution_count": 25,
     "metadata": {},
     "output_type": "execute_result"
    }
   ],
   "source": [
    "isinstance(s, object)"
   ]
  },
  {
   "cell_type": "code",
   "execution_count": 26,
   "id": "04cfa71a",
   "metadata": {},
   "outputs": [
    {
     "data": {
      "text/plain": [
       "False"
      ]
     },
     "execution_count": 26,
     "metadata": {},
     "output_type": "execute_result"
    }
   ],
   "source": [
    "isinstance(p, Bird)"
   ]
  },
  {
   "cell_type": "code",
   "execution_count": 61,
   "id": "4200382d",
   "metadata": {},
   "outputs": [
    {
     "ename": "IndentationError",
     "evalue": "expected an indented block (2442715624.py, line 11)",
     "output_type": "error",
     "traceback": [
      "\u001b[1;36m  Input \u001b[1;32mIn [61]\u001b[1;36m\u001b[0m\n\u001b[1;33m    print('Class is deleted')\u001b[0m\n\u001b[1;37m    ^\u001b[0m\n\u001b[1;31mIndentationError\u001b[0m\u001b[1;31m:\u001b[0m expected an indented block\n"
     ]
    }
   ],
   "source": [
    "#생성자, 소멸자\n",
    "\n",
    "class MyClass:\n",
    "    #생성자\n",
    "    def __init__(self, value):\n",
    "        self.Value = value\n",
    "        print('Class is created! Value = ',value)\n",
    "        \n",
    "    #소멸자\n",
    "    def __del__(self):\n",
    "    print('Class is deleted')"
   ]
  },
  {
   "cell_type": "code",
   "execution_count": 42,
   "id": "d4e6d23d",
   "metadata": {},
   "outputs": [
    {
     "name": "stdout",
     "output_type": "stream",
     "text": [
      "Class is created! Value =  10\n"
     ]
    }
   ],
   "source": [
    "m = MyClass(10)"
   ]
  },
  {
   "cell_type": "code",
   "execution_count": 43,
   "id": "185190bb",
   "metadata": {},
   "outputs": [],
   "source": [
    "del m"
   ]
  },
  {
   "cell_type": "code",
   "execution_count": 44,
   "id": "51741c5e",
   "metadata": {},
   "outputs": [],
   "source": [
    "# 정적 메소드\n",
    "\n",
    "class CounterManager:\n",
    "    insCount = 0\n",
    "    \n",
    "    def __init__(self):\n",
    "        CounterManager.insCount += 1\n",
    "        \n",
    "    def printInstanceCount():\n",
    "        print('Instance Count:', CounterManager.insCount)"
   ]
  },
  {
   "cell_type": "code",
   "execution_count": 47,
   "id": "753fcb40",
   "metadata": {},
   "outputs": [],
   "source": [
    "a, b, c = CounterManager(), CounterManager(), CounterManager()"
   ]
  },
  {
   "cell_type": "code",
   "execution_count": 48,
   "id": "ef49cd89",
   "metadata": {},
   "outputs": [
    {
     "name": "stdout",
     "output_type": "stream",
     "text": [
      "Instance Count: 5\n"
     ]
    }
   ],
   "source": [
    "CounterManager.printInstanceCount()"
   ]
  },
  {
   "cell_type": "code",
   "execution_count": 49,
   "id": "228c5de8",
   "metadata": {},
   "outputs": [],
   "source": [
    "# 상속의 확장\n",
    "\n",
    "class Person:\n",
    "    def __init__(self, name, phone):\n",
    "        self.Name = name\n",
    "        self.Phone = phone\n",
    "        \n",
    "    def PrintInfo(self):\n",
    "        print('Info(Name: {0}, Phone {1})'.format(self.Name, self.Phone))\n",
    "        \n",
    "    def PrintPersonData(self):\n",
    "        print('Person(Name: {0}, Phone {1})'.format(self.Name, self.Phone))"
   ]
  },
  {
   "cell_type": "code",
   "execution_count": 57,
   "id": "b274390a",
   "metadata": {},
   "outputs": [],
   "source": [
    "class Student(Person):\n",
    "    \n",
    "    def __init__(self, name, phone, subject, studentID):\n",
    "        self.Name = name\n",
    "        self.Phone = phone\n",
    "        self.Subject = subject\n",
    "        self.StudentID = studentID\n",
    "        \n",
    "    def PrintStudentID(self):\n",
    "        print(self.StudentID)"
   ]
  },
  {
   "cell_type": "code",
   "execution_count": 51,
   "id": "9a4a3b52",
   "metadata": {},
   "outputs": [],
   "source": [
    "p = Person('IU','010-0000-0000')\n",
    "s = Student('MinA','010-1111-1111','Computer Science','00000')"
   ]
  },
  {
   "cell_type": "code",
   "execution_count": 53,
   "id": "7129a253",
   "metadata": {},
   "outputs": [
    {
     "data": {
      "text/plain": [
       "{'Name': 'IU', 'Phone': '010-0000-0000'}"
      ]
     },
     "execution_count": 53,
     "metadata": {},
     "output_type": "execute_result"
    }
   ],
   "source": [
    "p.__dict__"
   ]
  },
  {
   "cell_type": "code",
   "execution_count": 54,
   "id": "1eac263a",
   "metadata": {},
   "outputs": [
    {
     "data": {
      "text/plain": [
       "{'Name': 'MinA',\n",
       " 'Phone': '010-1111-1111',\n",
       " 'Subject': 'Computer Science',\n",
       " 'StudentID': '00000'}"
      ]
     },
     "execution_count": 54,
     "metadata": {},
     "output_type": "execute_result"
    }
   ],
   "source": [
    "s.__dict__"
   ]
  },
  {
   "cell_type": "code",
   "execution_count": 55,
   "id": "ce20b548",
   "metadata": {},
   "outputs": [
    {
     "name": "stdout",
     "output_type": "stream",
     "text": [
      "Info(Name: IU, Phone 010-0000-0000)\n"
     ]
    }
   ],
   "source": [
    "p.PrintInfo()"
   ]
  },
  {
   "cell_type": "code",
   "execution_count": 56,
   "id": "33d80e55",
   "metadata": {},
   "outputs": [
    {
     "name": "stdout",
     "output_type": "stream",
     "text": [
      "Info(Name: MinA, Phone 010-1111-1111)\n"
     ]
    }
   ],
   "source": [
    "s.PrintInfo()"
   ]
  },
  {
   "cell_type": "code",
   "execution_count": 58,
   "id": "9e21a5e4",
   "metadata": {},
   "outputs": [
    {
     "ename": "AttributeError",
     "evalue": "'Student' object has no attribute 'PrintStudentID'",
     "output_type": "error",
     "traceback": [
      "\u001b[1;31m---------------------------------------------------------------------------\u001b[0m",
      "\u001b[1;31mAttributeError\u001b[0m                            Traceback (most recent call last)",
      "Input \u001b[1;32mIn [58]\u001b[0m, in \u001b[0;36m<cell line: 1>\u001b[1;34m()\u001b[0m\n\u001b[1;32m----> 1\u001b[0m \u001b[43ms\u001b[49m\u001b[38;5;241;43m.\u001b[39;49m\u001b[43mPrintStudentID\u001b[49m()\n",
      "\u001b[1;31mAttributeError\u001b[0m: 'Student' object has no attribute 'PrintStudentID'"
     ]
    }
   ],
   "source": [
    "s.PrintStudentID()"
   ]
  },
  {
   "cell_type": "code",
   "execution_count": 59,
   "id": "2892c058",
   "metadata": {},
   "outputs": [
    {
     "data": {
      "text/plain": [
       "True"
      ]
     },
     "execution_count": 59,
     "metadata": {},
     "output_type": "execute_result"
    }
   ],
   "source": [
    "# 상속 관계의 확인\n",
    "\n",
    "issubclass(Student, Person)"
   ]
  },
  {
   "cell_type": "code",
   "execution_count": 60,
   "id": "847c746f",
   "metadata": {},
   "outputs": [
    {
     "data": {
      "text/plain": [
       "False"
      ]
     },
     "execution_count": 60,
     "metadata": {},
     "output_type": "execute_result"
    }
   ],
   "source": [
    "issubclass(Person, Student)"
   ]
  },
  {
   "cell_type": "code",
   "execution_count": 62,
   "id": "c49113c0",
   "metadata": {},
   "outputs": [],
   "source": [
    "# 다중 상속\n",
    "\n",
    "class Tiger:\n",
    "    def Jump(self):\n",
    "        print('Tiger Jump!!')"
   ]
  },
  {
   "cell_type": "code",
   "execution_count": 63,
   "id": "61556f96",
   "metadata": {},
   "outputs": [],
   "source": [
    "class Lion:\n",
    "    def Bite(self):\n",
    "        print('Lion Bite')"
   ]
  },
  {
   "cell_type": "code",
   "execution_count": 64,
   "id": "c4723bd9",
   "metadata": {},
   "outputs": [],
   "source": [
    "class Liger(Tiger, Lion):\n",
    "    def Play(self):\n",
    "        print('Liger Player')"
   ]
  },
  {
   "cell_type": "code",
   "execution_count": 65,
   "id": "bda87848",
   "metadata": {},
   "outputs": [],
   "source": [
    "l = Liger()"
   ]
  },
  {
   "cell_type": "code",
   "execution_count": 66,
   "id": "c7f3604b",
   "metadata": {},
   "outputs": [
    {
     "name": "stdout",
     "output_type": "stream",
     "text": [
      "Liger Player\n"
     ]
    }
   ],
   "source": [
    "l.Play()"
   ]
  },
  {
   "cell_type": "code",
   "execution_count": 67,
   "id": "e8969516",
   "metadata": {},
   "outputs": [
    {
     "name": "stdout",
     "output_type": "stream",
     "text": [
      "Tiger Jump!!\n"
     ]
    }
   ],
   "source": [
    "l.Jump()"
   ]
  },
  {
   "cell_type": "code",
   "execution_count": 68,
   "id": "0d45acd3",
   "metadata": {},
   "outputs": [
    {
     "name": "stdout",
     "output_type": "stream",
     "text": [
      "Lion bite\n"
     ]
    }
   ],
   "source": [
    "l.Bite()"
   ]
  },
  {
   "cell_type": "code",
   "execution_count": null,
   "id": "0c8eb6ad",
   "metadata": {},
   "outputs": [],
   "source": []
  }
 ],
 "metadata": {
  "kernelspec": {
   "display_name": "Python 3 (ipykernel)",
   "language": "python",
   "name": "python3"
  },
  "language_info": {
   "codemirror_mode": {
    "name": "ipython",
    "version": 3
   },
   "file_extension": ".py",
   "mimetype": "text/x-python",
   "name": "python",
   "nbconvert_exporter": "python",
   "pygments_lexer": "ipython3",
   "version": "3.9.12"
  }
 },
 "nbformat": 4,
 "nbformat_minor": 5
}
